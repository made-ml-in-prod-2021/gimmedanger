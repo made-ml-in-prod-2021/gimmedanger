{
  "nbformat": 4,
  "nbformat_minor": 0,
  "metadata": {
    "colab": {
      "name": "ml_prod_ready_example_eda.ipynb",
      "provenance": [],
      "collapsed_sections": []
    },
    "kernelspec": {
      "name": "python3",
      "display_name": "Python 3"
    },
    "language_info": {
      "name": "python"
    }
  },
  "cells": [
    {
      "cell_type": "code",
      "metadata": {
        "colab": {
          "base_uri": "https://localhost:8080/"
        },
        "id": "eLhyxVhvMP9g",
        "outputId": "82faa464-3942-4537-9ba7-a80ef2b4247b"
      },
      "source": [
        "from google.colab import drive\n",
        "drive.mount('/content/gdrive/', force_remount=True)"
      ],
      "execution_count": 2,
      "outputs": [
        {
          "output_type": "stream",
          "text": [
            "Mounted at /content/gdrive/\n"
          ],
          "name": "stdout"
        }
      ]
    },
    {
      "cell_type": "code",
      "metadata": {
        "id": "pkfE19ShNdZP",
        "colab": {
          "base_uri": "https://localhost:8080/"
        },
        "outputId": "f79c7578-d36a-4dcc-e71d-a81b9ade83f6"
      },
      "source": [
        "path = 'gdrive/MyDrive/MADE_ML_PROD_2021_Hw_01_Prod_Ready_Example'\n",
        "\n",
        "#downloaded from https://www.kaggle.com/ronitf/heart-disease-uci\n",
        "!unzip $path/archive.zip"
      ],
      "execution_count": 3,
      "outputs": [
        {
          "output_type": "stream",
          "text": [
            "Archive:  gdrive/MyDrive/MADE_ML_PROD_2021_Hw_01_Prod_Ready_Example/archive.zip\n",
            "  inflating: heart.csv               \n"
          ],
          "name": "stdout"
        }
      ]
    },
    {
      "cell_type": "code",
      "metadata": {
        "id": "ao6r7aeIOTuP"
      },
      "source": [
        "import pandas as pd"
      ],
      "execution_count": 4,
      "outputs": []
    },
    {
      "cell_type": "code",
      "metadata": {
        "colab": {
          "base_uri": "https://localhost:8080/"
        },
        "id": "JvxPrQRXOoak",
        "outputId": "ce67f33f-bac5-4f2c-e74a-90c7fadc914b"
      },
      "source": [
        "df = pd.read_csv('heart.csv')\n",
        "df.shape"
      ],
      "execution_count": 6,
      "outputs": [
        {
          "output_type": "execute_result",
          "data": {
            "text/plain": [
              "(303, 14)"
            ]
          },
          "metadata": {
            "tags": []
          },
          "execution_count": 6
        }
      ]
    },
    {
      "cell_type": "code",
      "metadata": {
        "id": "gu-p4aw2OutM"
      },
      "source": [
        "df.columns = ['age', 'sex', 'chest_pain_type', 'resting_blood_pressure',\n",
        "              'cholesterol', 'fasting_blood_sugar', 'rest_ecg',\n",
        "              'max_heart_rate_achieved', 'exercise_induced_angina',\n",
        "              'st_depression', 'st_slope', 'num_major_vessels',\n",
        "              'thalassemia', 'target']\n",
        "\n",
        "# better naming for categorial features\n",
        "\n",
        "df.loc[df['sex'] == 0, 'sex'] = 'female'\n",
        "df.loc[df['sex'] == 1, 'sex'] = 'male'\n",
        "\n",
        "df.loc[df['chest_pain_type'] == 0, 'chest_pain_type'] = 'unknown angina'\n",
        "df.loc[df['chest_pain_type'] == 1, 'chest_pain_type'] = 'typical angina'\n",
        "df.loc[df['chest_pain_type'] == 2, 'chest_pain_type'] = 'atypical angina'\n",
        "df.loc[df['chest_pain_type'] == 3, 'chest_pain_type'] = 'non-anginal pain'\n",
        "df.loc[df['chest_pain_type'] == 4, 'chest_pain_type'] = 'asymptomatic'\n",
        "\n",
        "df.loc[df['fasting_blood_sugar'] == 0, 'fasting_blood_sugar'] = 'lower than 120mg/ml'\n",
        "df.loc[df['fasting_blood_sugar'] == 1, 'fasting_blood_sugar'] = 'greater than 120mg/ml'\n",
        "\n",
        "df.loc[df['rest_ecg'] == 0, 'rest_ecg'] = 'normal'\n",
        "df.loc[df['rest_ecg'] == 1, 'rest_ecg'] = 'ST-T wave abnormality'\n",
        "df.loc[df['rest_ecg'] == 2, 'rest_ecg'] = 'left ventricular hypertrophy'\n",
        "\n",
        "df.loc[df['exercise_induced_angina'] == 0, 'exercise_induced_angina'] = 'no'\n",
        "df.loc[df['exercise_induced_angina'] == 1, 'exercise_induced_angina'] = 'yes'\n",
        "\n",
        "df.loc[df['st_slope'] == 0, 'st_slope'] = 'unknown'\n",
        "df.loc[df['st_slope'] == 1, 'st_slope'] = 'upsloping'\n",
        "df.loc[df['st_slope'] == 2, 'st_slope'] = 'flat'\n",
        "df.loc[df['st_slope'] == 3, 'st_slope'] = 'downsloping'\n",
        "\n",
        "df.loc[df['thalassemia'] == 0, 'thalassemia'] = 'unknown'\n",
        "df.loc[df['thalassemia'] == 1, 'thalassemia'] = 'normal'\n",
        "df.loc[df['thalassemia'] == 2, 'thalassemia'] = 'fixed defect'\n",
        "df.loc[df['thalassemia'] == 3, 'thalassemia'] = 'reversable defect'\n",
        "\n",
        "categorial_features = ['sex', 'chest_pain_type', 'fasting_blood_sugar',\n",
        "                       'rest_ecg', 'exercise_induced_angina',\n",
        "                       'st_slope', 'thalassemia']\n",
        "\n",
        "numerical_features = set(df.columns) - set(categorial_features) - set(['target'])\n",
        "numerical_features = list(numerical_features)"
      ],
      "execution_count": 21,
      "outputs": []
    },
    {
      "cell_type": "code",
      "metadata": {
        "colab": {
          "base_uri": "https://localhost:8080/",
          "height": 296
        },
        "id": "cj2QWJWRRlV_",
        "outputId": "52c01bc7-3ff7-46e4-85b7-837de6441b54"
      },
      "source": [
        "df.head()"
      ],
      "execution_count": 14,
      "outputs": [
        {
          "output_type": "execute_result",
          "data": {
            "text/html": [
              "<div>\n",
              "<style scoped>\n",
              "    .dataframe tbody tr th:only-of-type {\n",
              "        vertical-align: middle;\n",
              "    }\n",
              "\n",
              "    .dataframe tbody tr th {\n",
              "        vertical-align: top;\n",
              "    }\n",
              "\n",
              "    .dataframe thead th {\n",
              "        text-align: right;\n",
              "    }\n",
              "</style>\n",
              "<table border=\"1\" class=\"dataframe\">\n",
              "  <thead>\n",
              "    <tr style=\"text-align: right;\">\n",
              "      <th></th>\n",
              "      <th>age</th>\n",
              "      <th>sex</th>\n",
              "      <th>chest_pain_type</th>\n",
              "      <th>resting_blood_pressure</th>\n",
              "      <th>cholesterol</th>\n",
              "      <th>fasting_blood_sugar</th>\n",
              "      <th>rest_ecg</th>\n",
              "      <th>max_heart_rate_achieved</th>\n",
              "      <th>exercise_induced_angina</th>\n",
              "      <th>st_depression</th>\n",
              "      <th>st_slope</th>\n",
              "      <th>num_major_vessels</th>\n",
              "      <th>thalassemia</th>\n",
              "      <th>target</th>\n",
              "    </tr>\n",
              "  </thead>\n",
              "  <tbody>\n",
              "    <tr>\n",
              "      <th>0</th>\n",
              "      <td>63</td>\n",
              "      <td>male</td>\n",
              "      <td>non-anginal pain</td>\n",
              "      <td>145</td>\n",
              "      <td>233</td>\n",
              "      <td>greater than 120mg/ml</td>\n",
              "      <td>normal</td>\n",
              "      <td>150</td>\n",
              "      <td>no</td>\n",
              "      <td>2.3</td>\n",
              "      <td>unknown</td>\n",
              "      <td>0</td>\n",
              "      <td>normal</td>\n",
              "      <td>1</td>\n",
              "    </tr>\n",
              "    <tr>\n",
              "      <th>1</th>\n",
              "      <td>37</td>\n",
              "      <td>male</td>\n",
              "      <td>atypical angina</td>\n",
              "      <td>130</td>\n",
              "      <td>250</td>\n",
              "      <td>lower than 120mg/ml</td>\n",
              "      <td>ST-T wave abnormality</td>\n",
              "      <td>187</td>\n",
              "      <td>no</td>\n",
              "      <td>3.5</td>\n",
              "      <td>unknown</td>\n",
              "      <td>0</td>\n",
              "      <td>fixed defect</td>\n",
              "      <td>1</td>\n",
              "    </tr>\n",
              "    <tr>\n",
              "      <th>2</th>\n",
              "      <td>41</td>\n",
              "      <td>female</td>\n",
              "      <td>typical angina</td>\n",
              "      <td>130</td>\n",
              "      <td>204</td>\n",
              "      <td>lower than 120mg/ml</td>\n",
              "      <td>normal</td>\n",
              "      <td>172</td>\n",
              "      <td>no</td>\n",
              "      <td>1.4</td>\n",
              "      <td>flat</td>\n",
              "      <td>0</td>\n",
              "      <td>fixed defect</td>\n",
              "      <td>1</td>\n",
              "    </tr>\n",
              "    <tr>\n",
              "      <th>3</th>\n",
              "      <td>56</td>\n",
              "      <td>male</td>\n",
              "      <td>typical angina</td>\n",
              "      <td>120</td>\n",
              "      <td>236</td>\n",
              "      <td>lower than 120mg/ml</td>\n",
              "      <td>ST-T wave abnormality</td>\n",
              "      <td>178</td>\n",
              "      <td>no</td>\n",
              "      <td>0.8</td>\n",
              "      <td>flat</td>\n",
              "      <td>0</td>\n",
              "      <td>fixed defect</td>\n",
              "      <td>1</td>\n",
              "    </tr>\n",
              "    <tr>\n",
              "      <th>4</th>\n",
              "      <td>57</td>\n",
              "      <td>female</td>\n",
              "      <td>unknown angina</td>\n",
              "      <td>120</td>\n",
              "      <td>354</td>\n",
              "      <td>lower than 120mg/ml</td>\n",
              "      <td>ST-T wave abnormality</td>\n",
              "      <td>163</td>\n",
              "      <td>yes</td>\n",
              "      <td>0.6</td>\n",
              "      <td>flat</td>\n",
              "      <td>0</td>\n",
              "      <td>fixed defect</td>\n",
              "      <td>1</td>\n",
              "    </tr>\n",
              "  </tbody>\n",
              "</table>\n",
              "</div>"
            ],
            "text/plain": [
              "   age     sex   chest_pain_type  ...  num_major_vessels   thalassemia target\n",
              "0   63    male  non-anginal pain  ...                  0        normal      1\n",
              "1   37    male   atypical angina  ...                  0  fixed defect      1\n",
              "2   41  female    typical angina  ...                  0  fixed defect      1\n",
              "3   56    male    typical angina  ...                  0  fixed defect      1\n",
              "4   57  female    unknown angina  ...                  0  fixed defect      1\n",
              "\n",
              "[5 rows x 14 columns]"
            ]
          },
          "metadata": {
            "tags": []
          },
          "execution_count": 14
        }
      ]
    },
    {
      "cell_type": "code",
      "metadata": {
        "id": "pSDOQX4BAUcH"
      },
      "source": [
        "from sklearn.ensemble import RandomForestClassifier\n",
        "from sklearn.model_selection import GridSearchCV\n",
        "from sklearn.preprocessing import OneHotEncoder, MinMaxScaler\n",
        "from sklearn.compose import ColumnTransformer\n",
        "from sklearn.pipeline import Pipeline\n",
        "\n",
        "feature_generation = ColumnTransformer(\n",
        "    transformers=[\n",
        "        ('OneHot', OneHotEncoder(), categorial_features),\n",
        "        ('Norma', MinMaxScaler(), numerical_features)\n",
        "    ],\n",
        "    remainder='drop',\n",
        "    sparse_threshold=1\n",
        ")\n",
        "\n",
        "pipe = Pipeline(\n",
        "    verbose=True,\n",
        "    steps=[\n",
        "        ('feature_generation', feature_generation),\n",
        "        ('clf', RandomForestClassifier())\n",
        "    ]\n",
        ")\n",
        "\n",
        "parameters = {\n",
        "    'clf__n_estimators': [50, 100, 200],\n",
        "    'clf__max_depth': [5, 7, 9, 11, 13],\n",
        "    'clf__random_state': [90520]\n",
        "}\n",
        "\n",
        "search = GridSearchCV(pipe, parameters, n_jobs=-1)"
      ],
      "execution_count": 43,
      "outputs": []
    },
    {
      "cell_type": "code",
      "metadata": {
        "colab": {
          "base_uri": "https://localhost:8080/"
        },
        "id": "5k5XDAi4C-J_",
        "outputId": "efe832ea-9d69-46bb-9412-80b9d7dae000"
      },
      "source": [
        "search.fit(df.drop('target', 1), df['target'])"
      ],
      "execution_count": 44,
      "outputs": [
        {
          "output_type": "stream",
          "text": [
            "[Pipeline]  (step 1 of 2) Processing feature_generation, total=   0.0s\n",
            "[Pipeline] ............... (step 2 of 2) Processing clf, total=   0.1s\n"
          ],
          "name": "stdout"
        },
        {
          "output_type": "execute_result",
          "data": {
            "text/plain": [
              "GridSearchCV(cv=None, error_score=nan,\n",
              "             estimator=Pipeline(memory=None,\n",
              "                                steps=[('feature_generation',\n",
              "                                        ColumnTransformer(n_jobs=None,\n",
              "                                                          remainder='drop',\n",
              "                                                          sparse_threshold=1,\n",
              "                                                          transformer_weights=None,\n",
              "                                                          transformers=[('OneHot',\n",
              "                                                                         OneHotEncoder(categories='auto',\n",
              "                                                                                       drop=None,\n",
              "                                                                                       dtype=<class 'numpy.float64'>,\n",
              "                                                                                       handle_unknown='error',\n",
              "                                                                                       sparse=True),\n",
              "                                                                         ['sex',\n",
              "                                                                          'chest_pain_type',\n",
              "                                                                          'fasti...\n",
              "                                                               min_weight_fraction_leaf=0.0,\n",
              "                                                               n_estimators=100,\n",
              "                                                               n_jobs=None,\n",
              "                                                               oob_score=False,\n",
              "                                                               random_state=None,\n",
              "                                                               verbose=0,\n",
              "                                                               warm_start=False))],\n",
              "                                verbose=True),\n",
              "             iid='deprecated', n_jobs=-1,\n",
              "             param_grid={'clf__max_depth': [5, 7, 9, 11, 13],\n",
              "                         'clf__n_estimators': [50, 100, 200],\n",
              "                         'clf__random_state': [90520]},\n",
              "             pre_dispatch='2*n_jobs', refit=True, return_train_score=False,\n",
              "             scoring=None, verbose=0)"
            ]
          },
          "metadata": {
            "tags": []
          },
          "execution_count": 44
        }
      ]
    },
    {
      "cell_type": "code",
      "metadata": {
        "colab": {
          "base_uri": "https://localhost:8080/"
        },
        "id": "dyj1wFe8DDsg",
        "outputId": "8bd7bae9-b3d9-476c-b25f-e541cac4094a"
      },
      "source": [
        "print(\"Best parameter (CV score=%0.3f):\" % search.best_score_)\n",
        "print(search.best_params_)"
      ],
      "execution_count": 45,
      "outputs": [
        {
          "output_type": "stream",
          "text": [
            "Best parameter (CV score=0.832):\n",
            "{'clf__max_depth': 13, 'clf__n_estimators': 50, 'clf__random_state': 90520}\n"
          ],
          "name": "stdout"
        }
      ]
    },
    {
      "cell_type": "code",
      "metadata": {
        "id": "fVFDqAK2GaVK"
      },
      "source": [
        ""
      ],
      "execution_count": null,
      "outputs": []
    }
  ]
}